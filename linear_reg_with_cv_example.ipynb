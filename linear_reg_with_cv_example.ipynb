{
 "cells": [
  {
   "cell_type": "markdown",
   "metadata": {},
   "source": [
    "## Generate Data"
   ]
  },
  {
   "cell_type": "code",
   "execution_count": 1,
   "metadata": {
    "slideshow": {
     "slide_type": "fragment"
    }
   },
   "outputs": [],
   "source": [
    "from sklearn.datasets import make_regression\n",
    "\n",
    "# generate some data\n",
    "X, y = make_regression(n_samples=20, n_features=1, random_state=0, noise=4, bias=100.0)"
   ]
  },
  {
   "cell_type": "markdown",
   "metadata": {},
   "source": [
    "## Model Fitting and Quantification"
   ]
  },
  {
   "cell_type": "code",
   "execution_count": 2,
   "metadata": {},
   "outputs": [
    {
     "name": "stderr",
     "output_type": "stream",
     "text": [
      "/anaconda3/envs/forja_model_testing/lib/python3.6/site-packages/sklearn/linear_model/base.py:509: RuntimeWarning: internal gelsd driver lwork query error, required iwork dimension not returned. This is likely the result of LAPACK bug 0038, fixed in LAPACK 3.2.2 (released July 21, 2010). Falling back to 'gelss' driver.\n",
      "  linalg.lstsq(X, y)\n"
     ]
    },
    {
     "data": {
      "text/plain": [
       "LinearRegression(copy_X=True, fit_intercept=True, n_jobs=1, normalize=False)"
      ]
     },
     "execution_count": 2,
     "metadata": {},
     "output_type": "execute_result"
    }
   ],
   "source": [
    "from sklearn.linear_model import LinearRegression\n",
    "\n",
    "# fit the model\n",
    "model = LinearRegression()\n",
    "model.fit(X, y)"
   ]
  },
  {
   "cell_type": "code",
   "execution_count": 3,
   "metadata": {},
   "outputs": [
    {
     "name": "stdout",
     "output_type": "stream",
     "text": [
      "intercept: 101.89622505659258 coef: 12.440024238506865\n"
     ]
    }
   ],
   "source": [
    "# show coef\n",
    "print(f\"intercept: {model.intercept_} coef: {model.coef_.item()}\")"
   ]
  },
  {
   "cell_type": "code",
   "execution_count": 4,
   "metadata": {},
   "outputs": [],
   "source": [
    "# get fitted values\n",
    "y_hat = model.predict(X)"
   ]
  },
  {
   "cell_type": "code",
   "execution_count": 5,
   "metadata": {},
   "outputs": [
    {
     "data": {
      "text/plain": [
       "<Figure size 640x480 with 1 Axes>"
      ]
     },
     "metadata": {},
     "output_type": "display_data"
    }
   ],
   "source": [
    "import matplotlib.pyplot as plt\n",
    "\n",
    "# plot\n",
    "plt.scatter(X, y)\n",
    "plt.plot(X, y_hat, color = \"orange\")\n",
    "plt.show()"
   ]
  },
  {
   "cell_type": "code",
   "execution_count": 6,
   "metadata": {},
   "outputs": [
    {
     "data": {
      "text/plain": [
       "0.903603363418708"
      ]
     },
     "execution_count": 6,
     "metadata": {},
     "output_type": "execute_result"
    }
   ],
   "source": [
    "from sklearn.metrics import r2_score\n",
    "\n",
    "# find r squared\n",
    "r2_score(y, y_hat)"
   ]
  },
  {
   "cell_type": "code",
   "execution_count": 7,
   "metadata": {},
   "outputs": [
    {
     "data": {
      "text/plain": [
       "11.933040779746149"
      ]
     },
     "execution_count": 7,
     "metadata": {},
     "output_type": "execute_result"
    }
   ],
   "source": [
    "from sklearn.metrics import mean_squared_error\n",
    "\n",
    "# find mse\n",
    "mean_squared_error(y, y_hat)"
   ]
  },
  {
   "cell_type": "code",
   "execution_count": 8,
   "metadata": {},
   "outputs": [
    {
     "name": "stdout",
     "output_type": "stream",
     "text": [
      "0.9036033634187076\n",
      "119330.40779746181\n"
     ]
    }
   ],
   "source": [
    "# note: r squared is scale invariant, mse is not scale invariant\n",
    "model2 = LinearRegression()\n",
    "model2.fit(X * 100, y * 100)\n",
    "print(r2_score(y * 100, model2.predict(X * 100)))\n",
    "print(mean_squared_error(y * 100, model2.predict(X * 100)))"
   ]
  },
  {
   "cell_type": "markdown",
   "metadata": {},
   "source": [
    "## Validation: Train Test"
   ]
  },
  {
   "cell_type": "code",
   "execution_count": 9,
   "metadata": {},
   "outputs": [],
   "source": [
    "from sklearn.model_selection import train_test_split"
   ]
  },
  {
   "cell_type": "code",
   "execution_count": 10,
   "metadata": {},
   "outputs": [],
   "source": [
    "X_train, X_test, y_train, y_test = train_test_split(X,y, random_state = 5)"
   ]
  },
  {
   "cell_type": "code",
   "execution_count": 11,
   "metadata": {},
   "outputs": [
    {
     "data": {
      "text/plain": [
       "LinearRegression(copy_X=True, fit_intercept=True, n_jobs=1, normalize=False)"
      ]
     },
     "execution_count": 11,
     "metadata": {},
     "output_type": "execute_result"
    }
   ],
   "source": [
    "model3 = LinearRegression()\n",
    "model3.fit(X_train, y_train)"
   ]
  },
  {
   "cell_type": "code",
   "execution_count": 12,
   "metadata": {},
   "outputs": [
    {
     "data": {
      "image/png": "[encoded data removed]",
      "text/plain": [
       "<Figure size 432x288 with 1 Axes>"
      ]
     },
     "metadata": {},
     "output_type": "display_data"
    }
   ],
   "source": [
    "plt.title(\"Training Fit versus Training Data\")\n",
    "plt.scatter(X_train, y_train, color = \"blue\", label = \"Training Data\")\n",
    "plt.plot(X_train, model3.predict(X_train), color = \"orange\", label = \"Training Fitted Values\")\n",
    "plt.legend()\n",
    "plt.show()"
   ]
  },
  {
   "cell_type": "code",
   "execution_count": 13,
   "metadata": {},
   "outputs": [
    {
     "name": "stdout",
     "output_type": "stream",
     "text": [
      "Score: 0.8899208411411561\n",
      "R-Squared: 0.8899208411411561\n",
      "R-Squared: 10.489132777075051\n"
     ]
    }
   ],
   "source": [
    "# score the model using the training data\n",
    "print(f\"Score: {model3.score(X_train, y_train)}\")\n",
    "print(f\"R-Squared: {r2_score(y_train, model3.predict(X_train))}\")\n",
    "print(f\"R-Squared: {mean_squared_error(y_train, model3.predict(X_train))}\")"
   ]
  },
  {
   "cell_type": "code",
   "execution_count": 14,
   "metadata": {},
   "outputs": [
    {
     "data": {
      "image/png": "[encoded data removed]",
      "text/plain": [
       "<Figure size 432x288 with 1 Axes>"
      ]
     },
     "metadata": {},
     "output_type": "display_data"
    }
   ],
   "source": [
    "plt.title(\"Predicted Values versus Testing Data\")\n",
    "plt.scatter(X_test, y_test, color = \"blue\", label = \"Testing Data\")\n",
    "plt.plot(X_test, model3.predict(X_test), color = \"orange\", label = \"Predicted Values\")\n",
    "plt.legend()\n",
    "plt.show()"
   ]
  },
  {
   "cell_type": "code",
   "execution_count": 15,
   "metadata": {},
   "outputs": [
    {
     "name": "stdout",
     "output_type": "stream",
     "text": [
      "Score: 0.858719664838021\n",
      "R-Squared: 0.8587196648380209\n",
      "R-Squared: 17.663942534659423\n"
     ]
    }
   ],
   "source": [
    "# score the model using the testing data\n",
    "print(f\"Score: {model3.score(X_test, y_test)}\")\n",
    "print(f\"R-Squared: {r2_score(y_test, model3.predict(X_test))}\")\n",
    "print(f\"R-Squared: {mean_squared_error(y_test, model3.predict(X_test))}\")"
   ]
  },
  {
   "cell_type": "markdown",
   "metadata": {},
   "source": [
    "## Cross Validation"
   ]
  },
  {
   "cell_type": "markdown",
   "metadata": {},
   "source": [
    "### Cross validator with default splits"
   ]
  },
  {
   "cell_type": "code",
   "execution_count": 16,
   "metadata": {},
   "outputs": [
    {
     "name": "stdout",
     "output_type": "stream",
     "text": [
      "dict_keys(['fit_time', 'score_time', 'test_r2', 'train_r2', 'test_neg_mean_squared_error', 'train_neg_mean_squared_error'])\n",
      "fit_time [0.00049901 0.00051832 0.00036716]\n",
      "score_time [0.00098777 0.00034571 0.00029325]\n",
      "test_r2 [0.6519119  0.92355375 0.80647156]\n",
      "train_r2 [0.8978236  0.88356306 0.90978779]\n",
      "test_neg_mean_squared_error [-15.51083441  -8.46501305 -16.91284975]\n",
      "train_neg_mean_squared_error [-10.42791462 -14.11344468 -10.37411015]\n"
     ]
    }
   ],
   "source": [
    "from sklearn.model_selection import cross_validate\n",
    "\n",
    "# apply the cross validator\n",
    "scores = cross_validate(model3, X, y, scoring=('r2','neg_mean_squared_error'), return_train_score=True, cv=3)\n",
    "\n",
    "print(scores.keys())\n",
    "for key in scores.keys():\n",
    "    print(key, scores[key])"
   ]
  },
  {
   "cell_type": "markdown",
   "metadata": {},
   "source": [
    "### Replicating cross validator with default splits using KFold"
   ]
  },
  {
   "cell_type": "code",
   "execution_count": 17,
   "metadata": {},
   "outputs": [
    {
     "name": "stdout",
     "output_type": "stream",
     "text": [
      "TRAIN: [ 7  8  9 10 11 12 13 14 15 16 17 18 19] TEST: [0 1 2 3 4 5 6]\n",
      "TRAIN: [ 0  1  2  3  4  5  6 14 15 16 17 18 19] TEST: [ 7  8  9 10 11 12 13]\n",
      "TRAIN: [ 0  1  2  3  4  5  6  7  8  9 10 11 12 13] TEST: [14 15 16 17 18 19]\n"
     ]
    }
   ],
   "source": [
    "from sklearn.model_selection import KFold\n",
    "\n",
    "# create the splitter object\n",
    "kf = KFold(n_splits=3)\n",
    "\n",
    "# see how it will split X by index\n",
    "for train_index, test_index in kf.split(X):\n",
    "    print(\"TRAIN:\", train_index, \"TEST:\", test_index)\n",
    "\n",
    "\n",
    "# note KFold() creates the splits so that the groups will be non-overlapping "
   ]
  },
  {
   "cell_type": "code",
   "execution_count": 18,
   "metadata": {},
   "outputs": [
    {
     "name": "stdout",
     "output_type": "stream",
     "text": [
      "dict_keys(['fit_time', 'score_time', 'test_r2', 'train_r2', 'test_neg_mean_squared_error', 'train_neg_mean_squared_error'])\n",
      "fit_time [0.0004859  0.00040007 0.00035286]\n",
      "score_time [0.00100613 0.01093483 0.00087619]\n",
      "test_r2 [0.6519119  0.92355375 0.80647156]\n",
      "train_r2 [0.8978236  0.88356306 0.90978779]\n",
      "test_neg_mean_squared_error [-15.51083441  -8.46501305 -16.91284975]\n",
      "train_neg_mean_squared_error [-10.42791462 -14.11344468 -10.37411015]\n"
     ]
    }
   ],
   "source": [
    "# apply the Kfold splitter with 3 splits\n",
    "scores = cross_validate(model3, X, y, scoring=('r2','neg_mean_squared_error'), return_train_score=True, cv=kf)\n",
    "\n",
    "print(scores.keys())\n",
    "for key in scores.keys():\n",
    "    print(key, scores[key])"
   ]
  },
  {
   "cell_type": "markdown",
   "metadata": {},
   "source": [
    "### Using time series splitter in cross validation"
   ]
  },
  {
   "cell_type": "code",
   "execution_count": 19,
   "metadata": {},
   "outputs": [
    {
     "name": "stdout",
     "output_type": "stream",
     "text": [
      "TRAIN: [0 1 2 3 4] TEST: [5 6 7 8 9]\n",
      "TRAIN: [0 1 2 3 4 5 6 7 8 9] TEST: [10 11 12 13 14]\n",
      "TRAIN: [ 0  1  2  3  4  5  6  7  8  9 10 11 12 13 14] TEST: [15 16 17 18 19]\n"
     ]
    }
   ],
   "source": [
    "from sklearn.model_selection import TimeSeriesSplit\n",
    "\n",
    "# create the splitter object\n",
    "tss = TimeSeriesSplit(n_splits=3)\n",
    "\n",
    "# see how it will split X by index\n",
    "for train_index, test_index in tss.split(X):\n",
    "    print(\"TRAIN:\", train_index, \"TEST:\", test_index)\n",
    "\n",
    "# By setting the int(len(X)/2)"
   ]
  },
  {
   "cell_type": "code",
   "execution_count": 20,
   "metadata": {},
   "outputs": [
    {
     "name": "stdout",
     "output_type": "stream",
     "text": [
      "dict_keys(['fit_time', 'score_time', 'test_r2', 'train_r2', 'test_neg_mean_squared_error', 'train_neg_mean_squared_error'])\n",
      "fit_time [0.00079107 0.00029802 0.00037384]\n",
      "score_time [0.00062704 0.00062799 0.00027108]\n",
      "test_r2 [0.76884092 0.81359963 0.74144068]\n",
      "train_r2 [0.90639372 0.86261367 0.90909925]\n",
      "test_neg_mean_squared_error [-19.37368638 -12.50475159 -19.66085106]\n",
      "train_neg_mean_squared_error [ -5.44203953 -10.80747442  -9.77775482]\n"
     ]
    }
   ],
   "source": [
    "# apply the Kfold splitter with 3 splits\n",
    "scores = cross_validate(model3, X, y, scoring=('r2','neg_mean_squared_error'), return_train_score=True, cv=tss)\n",
    "\n",
    "print(scores.keys())\n",
    "for key in scores.keys():\n",
    "    print(key, scores[key])"
   ]
  }
 ],
 "metadata": {
  "anaconda-cloud": {},
  "kernelspec": {
   "display_name": "Python (forja_model_testing)",
   "language": "python",
   "name": "forja_model_testing"
  },
  "language_info": {
   "codemirror_mode": {
    "name": "ipython",
    "version": 3
   },
   "file_extension": ".py",
   "mimetype": "text/x-python",
   "name": "python",
   "nbconvert_exporter": "python",
   "pygments_lexer": "ipython3",
   "version": "3.6.5"
  },
  "varInspector": {
   "cols": {
    "lenName": 16,
    "lenType": 16,
    "lenVar": 40
   },
   "kernels_config": {
    "python": {
     "delete_cmd_postfix": "",
     "delete_cmd_prefix": "del ",
     "library": "var_list.py",
     "varRefreshCmd": "print(var_dic_list())"
    },
    "r": {
     "delete_cmd_postfix": ") ",
     "delete_cmd_prefix": "rm(",
     "library": "var_list.r",
     "varRefreshCmd": "cat(var_dic_list()) "
    }
   },
   "types_to_exclude": [
    "module",
    "function",
    "builtin_function_or_method",
    "instance",
    "_Feature"
   ],
   "window_display": false
  }
 },
 "nbformat": 4,
 "nbformat_minor": 2
}
